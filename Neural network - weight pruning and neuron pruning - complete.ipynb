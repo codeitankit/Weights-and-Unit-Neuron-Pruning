{
 "cells": [
  {
   "cell_type": "markdown",
   "metadata": {},
   "source": [
    "## Imports"
   ]
  },
  {
   "cell_type": "code",
   "execution_count": 1,
   "metadata": {},
   "outputs": [
    {
     "name": "stderr",
     "output_type": "stream",
     "text": [
      "/anaconda3/lib/python3.6/site-packages/h5py/__init__.py:36: FutureWarning: Conversion of the second argument of issubdtype from `float` to `np.floating` is deprecated. In future, it will be treated as `np.float64 == np.dtype(float).type`.\n",
      "  from ._conv import register_converters as _register_converters\n"
     ]
    }
   ],
   "source": [
    "%matplotlib inline\n",
    "import matplotlib.pyplot as plt\n",
    "import tensorflow as tf\n",
    "import numpy as np\n",
    "from sklearn.metrics import confusion_matrix\n",
    "import seaborn as sns\n",
    "from numpy import linalg as LA"
   ]
  },
  {
   "cell_type": "code",
   "execution_count": 2,
   "metadata": {},
   "outputs": [],
   "source": [
    "from mnist import MNIST\n",
    "data = MNIST(data_dir=\"data/MNIST/\")"
   ]
  },
  {
   "cell_type": "markdown",
   "metadata": {},
   "source": [
    "## Copy some of the data-dimensions for convenience.\n",
    "img_size_flat is the number of pixels in an image when the image is flattened, img_size_flat = 28 * 28 = 784.\n",
    "\n",
    "img_shape is the shape of an image in 2-D, img_shape = 28 * 28 (28 by 28).\n",
    "\n",
    "num_classes is the number of output classes for the images, num_classes = 10"
   ]
  },
  {
   "cell_type": "code",
   "execution_count": 3,
   "metadata": {},
   "outputs": [],
   "source": [
    "img_size_flat = data.img_size_flat\n",
    "img_shape = data.img_shape\n",
    "num_classes = data.num_classes"
   ]
  },
  {
   "cell_type": "markdown",
   "metadata": {},
   "source": [
    "## Define the placeholders for training and testing data\n",
    "x is a placeholder variable whose dimensions are [None, img_size_flat] through which the images are fed to the model for training as well as testing.\n",
    "\n",
    "y_true is the placeholder through which the correct class for a training or testing data is fed to the network."
   ]
  },
  {
   "cell_type": "code",
   "execution_count": 4,
   "metadata": {},
   "outputs": [],
   "source": [
    "x = tf.placeholder(tf.float32, [None, img_size_flat])\n",
    "y_true = tf.placeholder(tf.float32, [None, num_classes])\n",
    "y_true_cls = tf.argmax(y_true, axis =1)"
   ]
  },
  {
   "cell_type": "markdown",
   "metadata": {},
   "source": [
    "## Define the model\n",
    "Our model is a multi-layer perceptron with 4 hidden layers having 1000, 1000, 500 and 200 neurons respectively. For ease of simplicity, biases are not used in the model."
   ]
  },
  {
   "cell_type": "code",
   "execution_count": 5,
   "metadata": {},
   "outputs": [],
   "source": [
    "hidden1 = 1000\n",
    "hidden2 = 1000\n",
    "hidden3 = 500\n",
    "hidden4 = 200"
   ]
  },
  {
   "cell_type": "markdown",
   "metadata": {},
   "source": [
    "## Variables to be optimized\n",
    "w1-w5 are 5 trainable variables that will be optimized during the training."
   ]
  },
  {
   "cell_type": "code",
   "execution_count": 6,
   "metadata": {},
   "outputs": [],
   "source": [
    "w1 = tf.Variable(tf.truncated_normal([img_size_flat,hidden1], stddev = 0.05))\n",
    "h1 = tf.nn.relu(tf.matmul(x,w1))\n",
    "\n",
    "w2 = tf.Variable(tf.truncated_normal([hidden1,hidden2],stddev = 0.05))\n",
    "h2 = tf.nn.relu(tf.matmul(h1,w2))\n",
    "\n",
    "w3 = tf.Variable(tf.truncated_normal([hidden2,hidden3], stddev = 0.05))\n",
    "h3 = tf.nn.relu(tf.matmul(h2,w3))\n",
    "\n",
    "w4 = tf.Variable(tf.truncated_normal([hidden3,hidden4],stddev = 0.05))\n",
    "h4 = tf.nn.relu(tf.matmul(h3,w4))\n",
    "\n",
    "w5 = tf.Variable(tf.truncated_normal([hidden4,num_classes], stddev = 0.05))\n",
    "logits = tf.matmul(h4,w5)\n",
    "\n",
    "y_pred = tf.nn.softmax(logits)\n",
    "\n",
    "y_pred_cls = tf.argmax(y_pred, axis=1)"
   ]
  },
  {
   "cell_type": "markdown",
   "metadata": {},
   "source": [
    "## Calculation of model loss\n",
    "To understand and quantify the performance of the model, a cross-entropy loss is defined over the oputput of the model and true class values."
   ]
  },
  {
   "cell_type": "code",
   "execution_count": 7,
   "metadata": {},
   "outputs": [],
   "source": [
    "cross_entropy = tf.nn.softmax_cross_entropy_with_logits_v2(logits=logits,labels=y_true)\n",
    "cost = tf.reduce_mean(cross_entropy)"
   ]
  },
  {
   "cell_type": "code",
   "execution_count": 8,
   "metadata": {},
   "outputs": [],
   "source": [
    "optimizer = tf.train.GradientDescentOptimizer(learning_rate=0.1).minimize(cost)\n",
    "correct_prediction = tf.equal(y_pred_cls, y_true_cls)\n",
    "accuracy = tf.reduce_mean(tf.cast(correct_prediction, tf.float32))"
   ]
  },
  {
   "cell_type": "code",
   "execution_count": 9,
   "metadata": {},
   "outputs": [],
   "source": [
    "session = tf.Session()\n",
    "session.run(tf.global_variables_initializer())"
   ]
  },
  {
   "cell_type": "code",
   "execution_count": 10,
   "metadata": {},
   "outputs": [],
   "source": [
    "batch_size = 100"
   ]
  },
  {
   "cell_type": "code",
   "execution_count": 11,
   "metadata": {},
   "outputs": [],
   "source": [
    "def optimize(num_iterations):\n",
    "    for i in range(num_iterations):\n",
    "        x_batch, y_true_batch, _ = data.random_batch(batch_size=batch_size)\n",
    "        feed_dict_train = {x: x_batch,y_true: y_true_batch}\n",
    "        session.run(optimizer, feed_dict=feed_dict_train)"
   ]
  },
  {
   "cell_type": "code",
   "execution_count": 12,
   "metadata": {},
   "outputs": [],
   "source": [
    "feed_dict_test = {x: data.x_test,\n",
    "                  y_true: data.y_test,\n",
    "                  y_true_cls: data.y_test_cls}"
   ]
  },
  {
   "cell_type": "code",
   "execution_count": 13,
   "metadata": {},
   "outputs": [],
   "source": [
    "def print_accuracy():\n",
    "    acc = session.run(accuracy, feed_dict=feed_dict_test)\n",
    "    print(\"Accuracy on test-set: {0:.1%}\".format(acc))"
   ]
  },
  {
   "cell_type": "markdown",
   "metadata": {},
   "source": [
    "## Performance after 100 optimization iterations"
   ]
  },
  {
   "cell_type": "code",
   "execution_count": 14,
   "metadata": {},
   "outputs": [],
   "source": [
    "# We have already performed 1 iteration.\n",
    "optimize(num_iterations=100)"
   ]
  },
  {
   "cell_type": "code",
   "execution_count": 15,
   "metadata": {},
   "outputs": [
    {
     "name": "stdout",
     "output_type": "stream",
     "text": [
      "Accuracy on test-set: 85.8%\n"
     ]
    }
   ],
   "source": [
    "print_accuracy()"
   ]
  },
  {
   "cell_type": "markdown",
   "metadata": {},
   "source": [
    "## Performance after 2000 optimization iterations"
   ]
  },
  {
   "cell_type": "code",
   "execution_count": 16,
   "metadata": {},
   "outputs": [],
   "source": [
    "# We have already performed 100 iterations.\n",
    "optimize(num_iterations=1900)"
   ]
  },
  {
   "cell_type": "code",
   "execution_count": 17,
   "metadata": {},
   "outputs": [
    {
     "name": "stdout",
     "output_type": "stream",
     "text": [
      "Accuracy on test-set: 97.4%\n"
     ]
    }
   ],
   "source": [
    "print_accuracy()"
   ]
  },
  {
   "cell_type": "markdown",
   "metadata": {},
   "source": [
    "## Set the value of k, k = percentage sparsity"
   ]
  },
  {
   "cell_type": "code",
   "execution_count": 18,
   "metadata": {},
   "outputs": [],
   "source": [
    "k1 = 95"
   ]
  },
  {
   "cell_type": "code",
   "execution_count": 19,
   "metadata": {},
   "outputs": [],
   "source": [
    "wt1 = np.ndarray.flatten(np.asarray(session.run(w1)))\n",
    "wt2 = np.ndarray.flatten(np.asarray(session.run(w2)))\n",
    "wt3 = np.ndarray.flatten(np.asarray(session.run(w3)))\n",
    "wt4 = np.ndarray.flatten(np.asarray(session.run(w4)))\n",
    "wt5 = np.asarray(session.run(w5))"
   ]
  },
  {
   "cell_type": "code",
   "execution_count": 20,
   "metadata": {},
   "outputs": [],
   "source": [
    "wt1[np.abs(wt1)<np.percentile(np.abs(wt1),k1)] = 0\n",
    "wt1 = tf.convert_to_tensor(wt1.reshape([img_size_flat,hidden1]))\n",
    "\n",
    "wt2[np.abs(wt2)<np.percentile(np.abs(wt2),k1)] = 0\n",
    "wt2 = tf.convert_to_tensor(wt2.reshape([hidden1,hidden2]))\n",
    "\n",
    "wt3[np.abs(wt3)<np.percentile(np.abs(wt3),k1)] = 0\n",
    "wt3 = tf.convert_to_tensor(wt3.reshape([hidden2,hidden3]))\n",
    "\n",
    "wt4[np.abs(wt4)<np.percentile(np.abs(wt4),k1)] = 0\n",
    "wt4 = tf.convert_to_tensor(wt4.reshape([hidden3,hidden4]))"
   ]
  },
  {
   "cell_type": "code",
   "execution_count": 21,
   "metadata": {},
   "outputs": [],
   "source": [
    "wt1 = tf.Variable(wt1)\n",
    "ht1 = tf.nn.relu(tf.matmul(x,wt1))\n",
    "\n",
    "wt2 = tf.Variable(wt2)\n",
    "ht2 = tf.nn.relu(tf.matmul(ht1,wt2))\n",
    "\n",
    "wt3 = tf.Variable(wt3)\n",
    "ht3 = tf.nn.relu(tf.matmul(ht2,wt3))\n",
    "\n",
    "wt4 = tf.Variable(wt4)\n",
    "ht4 = tf.nn.relu(tf.matmul(ht3,wt4))\n",
    "\n",
    "wt5 = tf.Variable(wt5)\n",
    "logits1 = tf.matmul(ht4,wt5)"
   ]
  },
  {
   "cell_type": "code",
   "execution_count": 22,
   "metadata": {},
   "outputs": [],
   "source": [
    "y_pred = tf.nn.softmax(logits1)\n",
    "\n",
    "y_pred_cls = tf.argmax(y_pred, axis=1)"
   ]
  },
  {
   "cell_type": "code",
   "execution_count": 23,
   "metadata": {},
   "outputs": [],
   "source": [
    "correct_prediction = tf.equal(y_pred_cls, y_true_cls)\n",
    "accuracy = tf.reduce_mean(tf.cast(correct_prediction, tf.float32))"
   ]
  },
  {
   "cell_type": "code",
   "execution_count": 24,
   "metadata": {},
   "outputs": [],
   "source": [
    "session.run(wt1.initializer)\n",
    "session.run(wt2.initializer)\n",
    "session.run(wt3.initializer)\n",
    "session.run(wt4.initializer)\n",
    "session.run(wt5.initializer)"
   ]
  },
  {
   "cell_type": "code",
   "execution_count": 25,
   "metadata": {},
   "outputs": [
    {
     "name": "stdout",
     "output_type": "stream",
     "text": [
      "Accuracy on test-set: 38.4%\n"
     ]
    }
   ],
   "source": [
    "print_accuracy()"
   ]
  },
  {
   "cell_type": "markdown",
   "metadata": {},
   "source": [
    "## Unit/Neuron Pruning"
   ]
  },
  {
   "cell_type": "code",
   "execution_count": 37,
   "metadata": {},
   "outputs": [],
   "source": [
    "k2 = 95"
   ]
  },
  {
   "cell_type": "code",
   "execution_count": 38,
   "metadata": {},
   "outputs": [],
   "source": [
    "wt_1 = np.asarray(session.run(w1))\n",
    "wt_2 = np.asarray(session.run(w2))\n",
    "wt_3 = np.asarray(session.run(w3))\n",
    "wt_4 = np.asarray(session.run(w4))\n",
    "wt_5 = np.asarray(session.run(w5))"
   ]
  },
  {
   "cell_type": "code",
   "execution_count": 39,
   "metadata": {},
   "outputs": [],
   "source": [
    "norm1 = LA.norm(wt_1, axis=0)\n",
    "norm2 = LA.norm(wt_2, axis=0)\n",
    "norm3 = LA.norm(wt_3, axis=0)\n",
    "norm4 = LA.norm(wt_4, axis=0)"
   ]
  },
  {
   "cell_type": "code",
   "execution_count": 40,
   "metadata": {},
   "outputs": [],
   "source": [
    "wt_1[:,np.argwhere(norm1<np.percentile(norm1,k2))] = 0\n",
    "wt_2[:,np.argwhere(norm2<np.percentile(norm2,k2))] = 0\n",
    "wt_3[:,np.argwhere(norm3<np.percentile(norm3,k2))] = 0\n",
    "wt_4[:,np.argwhere(norm4<np.percentile(norm4,k2))] = 0"
   ]
  },
  {
   "cell_type": "code",
   "execution_count": 41,
   "metadata": {},
   "outputs": [],
   "source": [
    "wt_1 = tf.convert_to_tensor(wt_1)\n",
    "wt_2 = tf.convert_to_tensor(wt_2)\n",
    "wt_3 = tf.convert_to_tensor(wt_3)\n",
    "wt_4 = tf.convert_to_tensor(wt_4)\n",
    "wt_5 = tf.convert_to_tensor(wt_5)"
   ]
  },
  {
   "cell_type": "code",
   "execution_count": 42,
   "metadata": {},
   "outputs": [],
   "source": [
    "wt_1 = tf.Variable(wt_1)\n",
    "ht_1 = tf.nn.relu(tf.matmul(x,wt_1))\n",
    "\n",
    "wt_2 = tf.Variable(wt_2)\n",
    "ht_2 = tf.nn.relu(tf.matmul(ht_1,wt_2))\n",
    "\n",
    "wt_3 = tf.Variable(wt_3)\n",
    "ht_3 = tf.nn.relu(tf.matmul(ht_2,wt_3))\n",
    "\n",
    "wt_4 = tf.Variable(wt_4)\n",
    "ht_4 = tf.nn.relu(tf.matmul(ht_3,wt_4))\n",
    "\n",
    "wt_5 = tf.Variable(wt_5)\n",
    "logits2 = tf.matmul(ht_4,wt_5)"
   ]
  },
  {
   "cell_type": "code",
   "execution_count": 43,
   "metadata": {},
   "outputs": [],
   "source": [
    "y_pred = tf.nn.softmax(logits2)\n",
    "\n",
    "y_pred_cls = tf.argmax(y_pred, axis=1)"
   ]
  },
  {
   "cell_type": "code",
   "execution_count": 44,
   "metadata": {},
   "outputs": [],
   "source": [
    "correct_prediction = tf.equal(y_pred_cls, y_true_cls)\n",
    "accuracy = tf.reduce_mean(tf.cast(correct_prediction, tf.float32))"
   ]
  },
  {
   "cell_type": "code",
   "execution_count": 45,
   "metadata": {},
   "outputs": [],
   "source": [
    "session.run(wt_1.initializer)\n",
    "session.run(wt_2.initializer)\n",
    "session.run(wt_3.initializer)\n",
    "session.run(wt_4.initializer)\n",
    "session.run(wt_5.initializer)"
   ]
  },
  {
   "cell_type": "code",
   "execution_count": 46,
   "metadata": {},
   "outputs": [
    {
     "name": "stdout",
     "output_type": "stream",
     "text": [
      "Accuracy on test-set: 11.0%\n"
     ]
    }
   ],
   "source": [
    "print_accuracy()"
   ]
  },
  {
   "cell_type": "code",
   "execution_count": null,
   "metadata": {},
   "outputs": [],
   "source": []
  }
 ],
 "metadata": {
  "anaconda-cloud": {},
  "kernelspec": {
   "display_name": "Python 3",
   "language": "python",
   "name": "python3"
  },
  "language_info": {
   "codemirror_mode": {
    "name": "ipython",
    "version": 3
   },
   "file_extension": ".py",
   "mimetype": "text/x-python",
   "name": "python",
   "nbconvert_exporter": "python",
   "pygments_lexer": "ipython3",
   "version": "3.6.5"
  }
 },
 "nbformat": 4,
 "nbformat_minor": 1
}
