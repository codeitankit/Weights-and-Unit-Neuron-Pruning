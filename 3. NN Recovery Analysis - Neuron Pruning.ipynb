{
 "cells": [
  {
   "cell_type": "markdown",
   "metadata": {},
   "source": [
    "## Imports Useful Libraries"
   ]
  },
  {
   "cell_type": "code",
   "execution_count": 1,
   "metadata": {},
   "outputs": [
    {
     "name": "stderr",
     "output_type": "stream",
     "text": [
      "/anaconda3/lib/python3.6/site-packages/h5py/__init__.py:36: FutureWarning: Conversion of the second argument of issubdtype from `float` to `np.floating` is deprecated. In future, it will be treated as `np.float64 == np.dtype(float).type`.\n",
      "  from ._conv import register_converters as _register_converters\n"
     ]
    }
   ],
   "source": [
    "import tensorflow as tf\n",
    "import numpy as np\n",
    "from sklearn.metrics import confusion_matrix\n",
    "import seaborn as sns\n",
    "from numpy import linalg as LA\n",
    "%matplotlib inline\n",
    "import matplotlib.pyplot as plt\n",
    "from pylab import rcParams\n",
    "import time\n",
    "from datetime import timedelta"
   ]
  },
  {
   "cell_type": "code",
   "execution_count": 2,
   "metadata": {},
   "outputs": [],
   "source": [
    "from mnist import MNIST\n",
    "data = MNIST(data_dir=\"data/MNIST/\")"
   ]
  },
  {
   "cell_type": "markdown",
   "metadata": {},
   "source": [
    "## Copy some of the data-dimensions for convenience.\n",
    "img_size_flat is the number of pixels in an image when the image is flattened, img_size_flat = 28 * 28 = 784.\n",
    "\n",
    "img_shape is the shape of an image in 2-D, img_shape = 28 * 28 (28 by 28).\n",
    "\n",
    "num_classes is the number of output classes for the images, num_classes = 10"
   ]
  },
  {
   "cell_type": "code",
   "execution_count": 3,
   "metadata": {},
   "outputs": [],
   "source": [
    "img_size_flat = data.img_size_flat\n",
    "img_shape = data.img_shape\n",
    "num_classes = data.num_classes"
   ]
  },
  {
   "cell_type": "markdown",
   "metadata": {},
   "source": [
    "## Define the placeholders for feeding the training and testing data to the computational graph\n",
    "x is a placeholder variable whose dimensions are [None, img_size_flat] through which the images are fed to the model for training as well as testing.\n",
    "\n",
    "y_true is the placeholder through which the correct class for a training or testing data is fed to the network."
   ]
  },
  {
   "cell_type": "code",
   "execution_count": 4,
   "metadata": {},
   "outputs": [],
   "source": [
    "x = tf.placeholder(tf.float32, [None, img_size_flat])\n",
    "y_true = tf.placeholder(tf.float32, [None, num_classes]) # y_true is a one-hot vector of class labels\n",
    "y_true_cls = tf.argmax(y_true, axis =1) # not a placeholder, y_true cls contains the class label as an integral value"
   ]
  },
  {
   "cell_type": "markdown",
   "metadata": {},
   "source": [
    "## Define the dimensions of the model\n",
    "Our model is a multi-layer perceptron with 4 hidden layers having 1000, 1000, 500 and 200 neurons respectively. For ease of simplicity, biases are not used in the model."
   ]
  },
  {
   "cell_type": "code",
   "execution_count": 5,
   "metadata": {},
   "outputs": [],
   "source": [
    "hidden1 = 1000\n",
    "hidden2 = 1000\n",
    "hidden3 = 500\n",
    "hidden4 = 200"
   ]
  },
  {
   "cell_type": "markdown",
   "metadata": {},
   "source": [
    "## Variables to be optimized\n",
    "w1-w5 are 5 trainable variables that will be optimized during the training."
   ]
  },
  {
   "cell_type": "code",
   "execution_count": 6,
   "metadata": {},
   "outputs": [],
   "source": [
    "w1 = tf.Variable(tf.truncated_normal([img_size_flat,hidden1], stddev = 0.05, seed=25))\n",
    "h1 = tf.nn.relu(tf.matmul(x,w1))\n",
    "\n",
    "w2 = tf.Variable(tf.truncated_normal([hidden1,hidden2],stddev = 0.05, seed=25))\n",
    "h2 = tf.nn.relu(tf.matmul(h1,w2))\n",
    "\n",
    "w3 = tf.Variable(tf.truncated_normal([hidden2,hidden3], stddev = 0.05, seed=25))\n",
    "h3 = tf.nn.relu(tf.matmul(h2,w3))\n",
    "\n",
    "w4 = tf.Variable(tf.truncated_normal([hidden3,hidden4],stddev = 0.05, seed=25))\n",
    "h4 = tf.nn.relu(tf.matmul(h3,w4))\n",
    "\n",
    "w5 = tf.Variable(tf.truncated_normal([hidden4,num_classes], stddev = 0.05, seed=25))\n",
    "logits = tf.matmul(h4,w5)\n",
    "\n",
    "y_pred = tf.nn.softmax(logits)\n",
    "\n",
    "y_pred_cls = tf.argmax(y_pred, axis=1)"
   ]
  },
  {
   "cell_type": "markdown",
   "metadata": {},
   "source": [
    "## Calculation of model loss\n",
    "To understand and quantify the performance of the model, a cross-entropy loss is defined over the oputput of the model and true class values."
   ]
  },
  {
   "cell_type": "code",
   "execution_count": 7,
   "metadata": {},
   "outputs": [],
   "source": [
    "cross_entropy = tf.nn.softmax_cross_entropy_with_logits_v2(logits=logits,labels=y_true)\n",
    "cost = tf.reduce_mean(cross_entropy)"
   ]
  },
  {
   "cell_type": "markdown",
   "metadata": {},
   "source": [
    "## Define optimization and accuracy operation"
   ]
  },
  {
   "cell_type": "code",
   "execution_count": 8,
   "metadata": {},
   "outputs": [],
   "source": [
    "optimizer = tf.train.GradientDescentOptimizer(learning_rate=0.1).minimize(cost)\n",
    "correct_prediction = tf.equal(y_pred_cls, y_true_cls)\n",
    "accuracy = tf.reduce_mean(tf.cast(correct_prediction, tf.float32))"
   ]
  },
  {
   "cell_type": "markdown",
   "metadata": {},
   "source": [
    "## Create a tensorflow session and initialize all the variables"
   ]
  },
  {
   "cell_type": "code",
   "execution_count": 9,
   "metadata": {},
   "outputs": [],
   "source": [
    "session = tf.Session()\n",
    "session.run(tf.global_variables_initializer())"
   ]
  },
  {
   "cell_type": "code",
   "execution_count": 10,
   "metadata": {},
   "outputs": [],
   "source": [
    "batch_size = 100"
   ]
  },
  {
   "cell_type": "markdown",
   "metadata": {},
   "source": [
    "## Define a function for carrying out iterations to train the model"
   ]
  },
  {
   "cell_type": "code",
   "execution_count": 11,
   "metadata": {},
   "outputs": [],
   "source": [
    "def optimize(optimizer, num_iterations):\n",
    "        \n",
    "    for i in range(num_iterations):\n",
    "        x_batch, y_true_batch, _ = data.random_batch(batch_size=batch_size)\n",
    "        feed_dict_train = {x: x_batch,y_true: y_true_batch}\n",
    "        session.run(optimizer, feed_dict=feed_dict_train)"
   ]
  },
  {
   "cell_type": "code",
   "execution_count": 12,
   "metadata": {},
   "outputs": [],
   "source": [
    "feed_dict_test = {x: data.x_test,\n",
    "                  y_true: data.y_test,\n",
    "                  y_true_cls: data.y_test_cls}"
   ]
  },
  {
   "cell_type": "markdown",
   "metadata": {},
   "source": [
    "## Define a function to calculate and print the accuracy over the test set"
   ]
  },
  {
   "cell_type": "code",
   "execution_count": 13,
   "metadata": {},
   "outputs": [],
   "source": [
    "def print_accuracy():\n",
    "    \n",
    "    start_time = time.time()\n",
    "    \n",
    "    acc = session.run(accuracy, feed_dict=feed_dict_test)\n",
    "    print(\"Accuracy on test-set: {0:.1%}\".format(acc))\n",
    "    \n",
    "    end_time = time.time()\n",
    "    \n",
    "    timedelta = (end_time-start_time)*1000\n",
    "    print(\"Execution time in milliseconds: {0:.4}\".format(timedelta))\n",
    "    \n",
    "    return acc, timedelta"
   ]
  },
  {
   "cell_type": "markdown",
   "metadata": {},
   "source": [
    "## Performance after 2000 optimization iterations"
   ]
  },
  {
   "cell_type": "code",
   "execution_count": 14,
   "metadata": {},
   "outputs": [],
   "source": [
    "optimize(optimizer, num_iterations=2000)"
   ]
  },
  {
   "cell_type": "code",
   "execution_count": 15,
   "metadata": {},
   "outputs": [
    {
     "name": "stdout",
     "output_type": "stream",
     "text": [
      "Accuracy on test-set: 97.3%\n"
     ]
    }
   ],
   "source": [
    "original_accuracy = session.run(accuracy, feed_dict = feed_dict_test)\n",
    "print(\"Accuracy on test-set: {0:.1%}\".format(original_accuracy))"
   ]
  },
  {
   "cell_type": "markdown",
   "metadata": {},
   "source": [
    "# Recovery analysis when the neuron pruned network is trained again\n",
    "When a neuron pruned network is trained again for 500 iterations, it is able to recover almost completely unitl the sparsity is upto 90%, however once the sparsity becomes higher than 90%, it is not able to recover (it may or may not recover when more iterations are performed)."
   ]
  },
  {
   "cell_type": "code",
   "execution_count": 16,
   "metadata": {},
   "outputs": [],
   "source": [
    "sparsity = [0, 25, 50, 60, 70, 80, 90, 95, 97, 99]"
   ]
  },
  {
   "cell_type": "code",
   "execution_count": 17,
   "metadata": {},
   "outputs": [],
   "source": [
    "def retrain_neuron_pruning(sparsity,num_iterations):\n",
    "\n",
    "    acc_after_retraining = []\n",
    "    acc_before_retraining = []\n",
    "    \n",
    "    for k in sparsity:\n",
    "    \n",
    "        # Convert the weights of the trained model to numpy arrays for pre-processing.\n",
    "        wt1 = np.asarray(session.run(w1))\n",
    "        wt2 = np.asarray(session.run(w2))\n",
    "        wt3 = np.asarray(session.run(w3))\n",
    "        wt4 = np.asarray(session.run(w4))\n",
    "        wt5 = np.asarray(session.run(w5))\n",
    "        \n",
    "        # Find the norm of each column (each column corresponds to a neuron in the next layer) in each weight matrix.\n",
    "        norm1 = LA.norm(wt1, axis=0)\n",
    "        norm2 = LA.norm(wt2, axis=0)\n",
    "        norm3 = LA.norm(wt3, axis=0)\n",
    "        norm4 = LA.norm(wt4, axis=0)\n",
    "        \n",
    "        # Set the weights for lower k% norms to 0. This renders k% neurons in each hidden layer passive.\n",
    "        # The connections from last hidden layer to the output layer have been left as it is.\n",
    "        wt1[:,np.argwhere(norm1<np.percentile(norm1,k))] = 0\n",
    "        wt2[:,np.argwhere(norm2<np.percentile(norm2,k))] = 0\n",
    "        wt3[:,np.argwhere(norm3<np.percentile(norm3,k))] = 0\n",
    "        wt4[:,np.argwhere(norm4<np.percentile(norm4,k))] = 0\n",
    "    \n",
    "        # Define the architecture of the neural network\n",
    "        wt1 = tf.Variable(tf.convert_to_tensor(wt1.reshape([img_size_flat,hidden1])))\n",
    "        ht1 = tf.nn.relu(tf.matmul(x,wt1))\n",
    "\n",
    "        wt2 = tf.Variable(tf.convert_to_tensor(wt2.reshape([hidden1,hidden2])))\n",
    "        ht2 = tf.nn.relu(tf.matmul(ht1,wt2))\n",
    "\n",
    "        wt3 = tf.Variable(tf.convert_to_tensor(wt3.reshape([hidden2,hidden3])))\n",
    "        ht3 = tf.nn.relu(tf.matmul(ht2,wt3))\n",
    "\n",
    "        wt4 = tf.Variable(tf.convert_to_tensor(wt4.reshape([hidden3,hidden4])))\n",
    "        ht4 = tf.nn.relu(tf.matmul(ht3,wt4))\n",
    "\n",
    "        wt5 = tf.Variable(tf.convert_to_tensor(wt5))\n",
    "        logits = tf.matmul(ht4,wt5)\n",
    "        \n",
    "        # Now, we calculate accuracy of the model in two ways:\n",
    "        \n",
    "        # i) Inducing sparsity by setting connections of k% neurons in each layer to 0(except last hidden layer \n",
    "        # neurons) and calculating accuracy before retraining the network\n",
    "        \n",
    "        # ii) Inducing sparsity by setting connections of k% neurons in each layer to 0(except last hidden layer \n",
    "        # neurons) and calculating accuracy after retraining the network\n",
    "        \n",
    "        # It must be noted that the number of neurons in each layer has remained same in both the cases. Howevwer, \n",
    "        # k% neurons in each layer have been rendered passive\n",
    "        \n",
    "        y_pred = tf.nn.softmax(logits)\n",
    "        y_pred_cls = tf.argmax(y_pred, axis=1)\n",
    "        \n",
    "        # Define operation to calculate accuracy before retraining\n",
    "        correct_prediction_before_retraining = tf.equal(y_pred_cls, y_true_cls)\n",
    "        accuracy_before_retraining = tf.reduce_mean(tf.cast(correct_prediction_before_retraining, tf.float32))\n",
    "        \n",
    "        # Find the cross entropy and loss\n",
    "        cross_entropy = tf.nn.softmax_cross_entropy_with_logits_v2(logits=logits,labels=y_true)\n",
    "        cost = tf.reduce_mean(cross_entropy)\n",
    "            \n",
    "        # Define optimization operation to train the network\n",
    "        optimizer_np = tf.train.GradientDescentOptimizer(learning_rate=0.1).minimize(cost)\n",
    "        \n",
    "        # Define operation to calculate accuracy after retraining\n",
    "        correct_prediction_after_retraining = tf.equal(y_pred_cls, y_true_cls)\n",
    "        accuracy_after_retraining = tf.reduce_mean(tf.cast(correct_prediction_after_retraining, tf.float32))\n",
    "        \n",
    "        # Initialize the trainable variables\n",
    "        session.run(wt1.initializer)\n",
    "        session.run(wt2.initializer)\n",
    "        session.run(wt3.initializer)\n",
    "        session.run(wt4.initializer)\n",
    "        session.run(wt5.initializer)\n",
    "        \n",
    "        # Calculate accuracy before retraining\n",
    "        acc1 = session.run(accuracy_before_retraining, feed_dict = feed_dict_test)\n",
    "        acc_before_retraining.append(acc1*100)\n",
    "        \n",
    "        # Retrain the network by running optimize function defined above\n",
    "        optimize(optimizer_np, num_iterations)\n",
    "        \n",
    "        # Calculate accuracy before retraining\n",
    "        acc2 = session.run(accuracy_after_retraining, feed_dict = feed_dict_test)\n",
    "        acc_after_retraining.append(acc2*100)\n",
    "        \n",
    "    \n",
    "    return acc_before_retraining, acc_after_retraining\n",
    "    \n",
    "    #####################################################################################################\n",
    "    \n",
    "    "
   ]
  },
  {
   "cell_type": "code",
   "execution_count": 18,
   "metadata": {},
   "outputs": [],
   "source": [
    "acc_before_retraining, acc_after_retraining = retrain_neuron_pruning(sparsity,1000)"
   ]
  },
  {
   "cell_type": "code",
   "execution_count": 20,
   "metadata": {},
   "outputs": [
    {
     "data": {
      "image/png": "[encoded data removed]",
      "text/plain": [
       "<Figure size 1440x864 with 1 Axes>"
      ]
     },
     "metadata": {},
     "output_type": "display_data"
    }
   ],
   "source": [
    "rcParams['figure.figsize'] = 20, 12\n",
    "plt.plot(sparsity,np.size(sparsity)*[original_accuracy*100],'r',\n",
    "         sparsity,acc_before_retraining,'b',\n",
    "         sparsity,acc_after_retraining,'g')\n",
    "\n",
    "plt.grid()\n",
    "\n",
    "plt.legend([['Original accuracy(before pruning)'],\n",
    "            ['Accuracy after neuron pruning'],\n",
    "            ['Accuracy after neuron pruned network is trained again']],\n",
    "           loc='lower left', fontsize='xx-large')\n",
    "\n",
    "plt.xlabel('Percentage sparsity',fontsize='xx-large')\n",
    "plt.ylabel('Accuracy',fontsize='xx-large')\n",
    "\n",
    "plt.xticks(sparsity)\n",
    "plt.yticks(np.arange(0,100,5))\n",
    "\n",
    "plt.show()"
   ]
  },
  {
   "cell_type": "markdown",
   "metadata": {},
   "source": [
    "# Important\n",
    "As we increase the number of iterations to retrain the neuron pruned network, it keeps on recovering its accuracy. Initially, I trained it for 500 iterations and the network was able to recover till 80% sparsity. The results above are for 1000 iterations and the network is able to recover till 95% sparsity. To the best of my understanding, as we retrain it over more iterations, it should recover completely till 99% sparsity."
   ]
  },
  {
   "cell_type": "code",
   "execution_count": null,
   "metadata": {},
   "outputs": [],
   "source": []
  }
 ],
 "metadata": {
  "kernelspec": {
   "display_name": "Python 3",
   "language": "python",
   "name": "python3"
  },
  "language_info": {
   "codemirror_mode": {
    "name": "ipython",
    "version": 3
   },
   "file_extension": ".py",
   "mimetype": "text/x-python",
   "name": "python",
   "nbconvert_exporter": "python",
   "pygments_lexer": "ipython3",
   "version": "3.6.5"
  }
 },
 "nbformat": 4,
 "nbformat_minor": 2
}
