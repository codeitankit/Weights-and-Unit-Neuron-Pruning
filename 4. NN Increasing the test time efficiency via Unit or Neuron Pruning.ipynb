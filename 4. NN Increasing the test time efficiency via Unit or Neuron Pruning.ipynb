{
 "cells": [
  {
   "cell_type": "markdown",
   "metadata": {},
   "source": [
    "## Imports Useful Libraries"
   ]
  },
  {
   "cell_type": "code",
   "execution_count": 1,
   "metadata": {},
   "outputs": [
    {
     "name": "stderr",
     "output_type": "stream",
     "text": [
      "/anaconda3/lib/python3.6/site-packages/h5py/__init__.py:36: FutureWarning: Conversion of the second argument of issubdtype from `float` to `np.floating` is deprecated. In future, it will be treated as `np.float64 == np.dtype(float).type`.\n",
      "  from ._conv import register_converters as _register_converters\n"
     ]
    }
   ],
   "source": [
    "import tensorflow as tf\n",
    "import numpy as np\n",
    "import pandas as pd\n",
    "from sklearn.metrics import confusion_matrix\n",
    "import seaborn as sns\n",
    "from numpy import linalg as LA\n",
    "%matplotlib inline\n",
    "import matplotlib.pyplot as plt\n",
    "from pylab import rcParams\n",
    "import time\n",
    "from datetime import timedelta"
   ]
  },
  {
   "cell_type": "code",
   "execution_count": 2,
   "metadata": {},
   "outputs": [],
   "source": [
    "from mnist import MNIST\n",
    "data = MNIST(data_dir=\"data/MNIST/\")"
   ]
  },
  {
   "cell_type": "markdown",
   "metadata": {},
   "source": [
    "## Copy some of the data-dimensions for convenience.\n",
    "img_size_flat is the number of pixels in an image when the image is flattened, img_size_flat = 28 * 28 = 784.\n",
    "\n",
    "img_shape is the shape of an image in 2-D, img_shape = 28 * 28 (28 by 28).\n",
    "\n",
    "num_classes is the number of output classes for the images, num_classes = 10"
   ]
  },
  {
   "cell_type": "code",
   "execution_count": 3,
   "metadata": {},
   "outputs": [],
   "source": [
    "img_size_flat = data.img_size_flat\n",
    "img_shape = data.img_shape\n",
    "num_classes = data.num_classes"
   ]
  },
  {
   "cell_type": "markdown",
   "metadata": {},
   "source": [
    "## Define the placeholders for feeding the training and testing data to the computational graph\n",
    "x is a placeholder variable whose dimensions are [None, img_size_flat] through which the images are fed to the model for training as well as testing.\n",
    "\n",
    "y_true is the placeholder through which the correct class for a training or testing data is fed to the network."
   ]
  },
  {
   "cell_type": "code",
   "execution_count": 4,
   "metadata": {},
   "outputs": [],
   "source": [
    "x = tf.placeholder(tf.float32, [None, img_size_flat])\n",
    "y_true = tf.placeholder(tf.float32, [None, num_classes]) # y_true is a one-hot vector of class labels\n",
    "y_true_cls = tf.argmax(y_true, axis =1) # not a placeholder, y_true cls contains the class label as an integral value"
   ]
  },
  {
   "cell_type": "markdown",
   "metadata": {},
   "source": [
    "## Define the dimensions of the model\n",
    "Our model is a multi-layer perceptron with 4 hidden layers having 1000, 1000, 500 and 200 neurons respectively. For ease of simplicity, biases are not used in the model."
   ]
  },
  {
   "cell_type": "code",
   "execution_count": 5,
   "metadata": {},
   "outputs": [],
   "source": [
    "hidden1 = 1000\n",
    "hidden2 = 1000\n",
    "hidden3 = 500\n",
    "hidden4 = 200"
   ]
  },
  {
   "cell_type": "markdown",
   "metadata": {},
   "source": [
    "## Variables to be optimized\n",
    "w1-w5 are 5 trainable variables that will be optimized during the training."
   ]
  },
  {
   "cell_type": "code",
   "execution_count": 6,
   "metadata": {},
   "outputs": [],
   "source": [
    "w1 = tf.Variable(tf.truncated_normal([img_size_flat,hidden1], stddev = 0.05, seed=25))\n",
    "h1 = tf.nn.relu(tf.matmul(x,w1))\n",
    "\n",
    "w2 = tf.Variable(tf.truncated_normal([hidden1,hidden2],stddev = 0.05, seed=25))\n",
    "h2 = tf.nn.relu(tf.matmul(h1,w2))\n",
    "\n",
    "w3 = tf.Variable(tf.truncated_normal([hidden2,hidden3], stddev = 0.05, seed=25))\n",
    "h3 = tf.nn.relu(tf.matmul(h2,w3))\n",
    "\n",
    "w4 = tf.Variable(tf.truncated_normal([hidden3,hidden4],stddev = 0.05, seed=25))\n",
    "h4 = tf.nn.relu(tf.matmul(h3,w4))\n",
    "\n",
    "w5 = tf.Variable(tf.truncated_normal([hidden4,num_classes], stddev = 0.05, seed=25))\n",
    "logits = tf.matmul(h4,w5)\n",
    "\n",
    "y_pred = tf.nn.softmax(logits)\n",
    "\n",
    "y_pred_cls = tf.argmax(y_pred, axis=1)"
   ]
  },
  {
   "cell_type": "markdown",
   "metadata": {},
   "source": [
    "## Calculation of model loss\n",
    "To understand and quantify the performance of the model, a cross-entropy loss is defined over the oputput of the model and true class values."
   ]
  },
  {
   "cell_type": "code",
   "execution_count": 7,
   "metadata": {},
   "outputs": [],
   "source": [
    "cross_entropy = tf.nn.softmax_cross_entropy_with_logits_v2(logits=logits,labels=y_true)\n",
    "cost = tf.reduce_mean(cross_entropy)"
   ]
  },
  {
   "cell_type": "markdown",
   "metadata": {},
   "source": [
    "## Define optimization and accuracy operation"
   ]
  },
  {
   "cell_type": "code",
   "execution_count": 8,
   "metadata": {},
   "outputs": [],
   "source": [
    "optimizer = tf.train.GradientDescentOptimizer(learning_rate=0.1).minimize(cost)\n",
    "correct_prediction = tf.equal(y_pred_cls, y_true_cls)\n",
    "accuracy = tf.reduce_mean(tf.cast(correct_prediction, tf.float32))"
   ]
  },
  {
   "cell_type": "markdown",
   "metadata": {},
   "source": [
    "## Create a tensorflow session and initialize all the variables"
   ]
  },
  {
   "cell_type": "code",
   "execution_count": 9,
   "metadata": {},
   "outputs": [],
   "source": [
    "session = tf.Session()\n",
    "session.run(tf.global_variables_initializer())"
   ]
  },
  {
   "cell_type": "code",
   "execution_count": 10,
   "metadata": {},
   "outputs": [],
   "source": [
    "batch_size = 100"
   ]
  },
  {
   "cell_type": "markdown",
   "metadata": {},
   "source": [
    "## Define a function for carrying out num_iterations iterations to train the model"
   ]
  },
  {
   "cell_type": "code",
   "execution_count": 11,
   "metadata": {},
   "outputs": [],
   "source": [
    "def optimize(optimizer, num_iterations):\n",
    "    #start_time = time.time()\n",
    "        \n",
    "    for i in range(num_iterations):\n",
    "        x_batch, y_true_batch, _ = data.random_batch(batch_size=batch_size)\n",
    "        feed_dict_train = {x: x_batch,y_true: y_true_batch}\n",
    "        session.run(optimizer, feed_dict=feed_dict_train)\n",
    "        \n",
    "    #end_time = time.time()\n",
    "    #time_dif = end_time - start_time\n",
    "    #print(\"Time usage: \" + str(timedelta(seconds=int(round(time_dif)))))"
   ]
  },
  {
   "cell_type": "code",
   "execution_count": 12,
   "metadata": {},
   "outputs": [],
   "source": [
    "feed_dict_test = {x: data.x_test,\n",
    "                  y_true: data.y_test,\n",
    "                  y_true_cls: data.y_test_cls}"
   ]
  },
  {
   "cell_type": "markdown",
   "metadata": {},
   "source": [
    "## Define a function to calculate and print the accuracy over the test set"
   ]
  },
  {
   "cell_type": "code",
   "execution_count": 13,
   "metadata": {},
   "outputs": [],
   "source": [
    "def print_accuracy():\n",
    "    \n",
    "    start_time = time.time()\n",
    "    acc = session.run(accuracy, feed_dict=feed_dict_test)    \n",
    "    end_time = time.time()\n",
    "    \n",
    "    timedelta = (end_time-start_time)*1000\n",
    "    \n",
    "    print(\"Accuracy on test-set: {0:.1%}\".format(acc))\n",
    "    print(\"Execution time in milliseconds: {0:.4}\".format(timedelta))\n",
    "    \n",
    "    return acc*100, timedelta"
   ]
  },
  {
   "cell_type": "markdown",
   "metadata": {},
   "source": [
    "## Performance after 2000 optimization iterations"
   ]
  },
  {
   "cell_type": "code",
   "execution_count": 14,
   "metadata": {},
   "outputs": [],
   "source": [
    "optimize(optimizer, num_iterations = 2000)"
   ]
  },
  {
   "cell_type": "code",
   "execution_count": 15,
   "metadata": {},
   "outputs": [
    {
     "name": "stdout",
     "output_type": "stream",
     "text": [
      "Accuracy on test-set: 97.4%\n",
      "Execution time in milliseconds: 562.8\n"
     ]
    }
   ],
   "source": [
    "original_accuracy, exec_time = print_accuracy()"
   ]
  },
  {
   "cell_type": "markdown",
   "metadata": {},
   "source": [
    "# Increasing the speed of execution of the neural net using neuron pruning\n",
    "\n",
    "Henceforth, whenever we say \"smaller network\", we mean neuron pruned network from which k% neurons in each hidden layer(except the ;ast layer) have been deleted."
   ]
  },
  {
   "cell_type": "code",
   "execution_count": 16,
   "metadata": {},
   "outputs": [],
   "source": [
    "sparsity = [0, 25, 50, 60, 70, 80, 90, 95, 97, 99]"
   ]
  },
  {
   "cell_type": "code",
   "execution_count": 17,
   "metadata": {},
   "outputs": [],
   "source": [
    "def execution_speed(sparsity, num_iterations):\n",
    "    \n",
    "    acc_before_retraining = []\n",
    "    execution_time_before_retraining = []\n",
    "    acc_after_retraining = []\n",
    "    execution_time_after_retraining = []\n",
    "    \n",
    "    for k in sparsity:\n",
    "        \n",
    "        # Convert the weights of the trained model to numpy arrays for pre-processing.\n",
    "        wt1 = np.asarray(session.run(w1))\n",
    "        wt2 = np.asarray(session.run(w2))\n",
    "        wt3 = np.asarray(session.run(w3))\n",
    "        wt4 = np.asarray(session.run(w4))\n",
    "        wt5 = np.asarray(session.run(w5))\n",
    "\n",
    "        # Find the norm of each column (each column corresponds to a neuron in the next layer) in each weight matrix.\n",
    "        norm1 = LA.norm(wt1, axis=0)\n",
    "        norm2 = LA.norm(wt2, axis=0)\n",
    "        norm3 = LA.norm(wt3, axis=0)\n",
    "        norm4 = LA.norm(wt4, axis=0)\n",
    "        \n",
    "        # Set the weights for lower k% norms to 0. This renders k% neurons in each hidden layer passive.\n",
    "        # The connections from last hidden layer to the output layer have been left as it is.\n",
    "        \n",
    "        wt1[:,np.argwhere(norm1<np.percentile(norm1,k))] = 0\n",
    "        wt2[:,np.argwhere(norm2<np.percentile(norm2,k))] = 0\n",
    "        wt3[:,np.argwhere(norm3<np.percentile(norm3,k))] = 0\n",
    "        wt4[:,np.argwhere(norm4<np.percentile(norm4,k))] = 0\n",
    "\n",
    "        ### Now, even though we have made k% neurons in each hidden layer passive by setting the \n",
    "        # weights corresponding to their connections in the previous layer as 0, these neurons still \n",
    "        # participate in matrix multiplication. Thus, we have introduced sparsity in our network, but\n",
    "        # have not made the size of yhe network smaller.\n",
    "        \n",
    "        # To make our network smaller in size, we need to delete these k% neurons.\n",
    "        # This gets tricky here, so pay close attention.\n",
    "        \n",
    "        # Here, take note of these 2 important points:\n",
    "        \n",
    "        # i) When we delete a row from a weight matrix, a neuron in the same layer is deleted.\n",
    "        # ii) When we delete a column from a weight matrix, a neuron in the\n",
    "        # next layer is deleted.\n",
    "        \n",
    "        # e.g: Let w3 be the weight matrix that connects hidden layer 2(1000 neurons) to hidden layer 3(500 neurons).\n",
    "        # On deleting 4th row from w3, the 4th neuron in hidden layer 2 is deleted.\n",
    "        # Similarly, on deleting 6th column from w3, the 6th neuron in hidden layer 3 is deleted.\n",
    "          \n",
    "        # columns with norm = 0 in wt1(connects input layer to hidden layer 1)\n",
    "        # Here, we must not delete neurons in the inout layer.\n",
    "        index1 = np.argwhere(wt1[0,:]==0) # indices of columns for which norm = 0\n",
    "        wt1 = np.delete(wt1,index1,axis=1) # delete columns with norm = 0\n",
    "        \n",
    "        \n",
    "        # columns with norm = 0 in wt2(connects hidden layer 1 to hidden layer 2)\n",
    "        index2 = np.argwhere(wt2[0,:]==0)\n",
    "        \n",
    "        # delete rows with index same as columns deleted in wt1\n",
    "        wt2 = np.delete(wt2,index1,axis=0) #axis=0 means delete rows\n",
    "        wt2 = np.delete(wt2,index2,axis=1) #axis=1 means delete column\n",
    "        \n",
    "        index3 = np.argwhere(wt3[0,:]==0)\n",
    "        wt3 = np.delete(wt3,index2,axis=0)\n",
    "        wt3 = np.delete(wt3,index3,axis=1)\n",
    "        \n",
    "        wt4 = np.delete(wt4,index3,axis=0)        \n",
    "        \n",
    "        ############################################################\n",
    "        \n",
    "        # Define the architecture of the neural network.\n",
    "        \n",
    "        wt1 = tf.Variable(tf.convert_to_tensor(wt1))\n",
    "        ht1 = tf.nn.relu(tf.matmul(x,wt1))\n",
    "\n",
    "        wt2 = tf.Variable(tf.convert_to_tensor(wt2))\n",
    "        ht2 = tf.nn.relu(tf.matmul(ht1,wt2))\n",
    "\n",
    "        wt3 = tf.Variable(tf.convert_to_tensor(wt3))\n",
    "        ht3 = tf.nn.relu(tf.matmul(ht2,wt3))\n",
    "\n",
    "        wt4 = tf.Variable(tf.convert_to_tensor(wt4))\n",
    "        ht4 = tf.nn.relu(tf.matmul(ht3,wt4))\n",
    "\n",
    "        wt5 = tf.Variable(tf.convert_to_tensor(wt5))\n",
    "        logits = tf.matmul(ht4,wt5)\n",
    "    \n",
    "        y_pred = tf.nn.softmax(logits)\n",
    "        y_pred_cls = tf.argmax(y_pred, axis=1)\n",
    "        \n",
    "        ###############################################################\n",
    "        \n",
    "        # Now, we perform 2 types of analyses:\n",
    "        \n",
    "        # i) Calculate the accuracy and execution time with the smaller network before it is retrained\n",
    "        # So, we just delete the k% neurons in each layer(thus making the network smaller) and \n",
    "        # calculate the accuracy on the test set without retraining this smaller model.\n",
    "        \n",
    "        # ii) Same operation as in (i) but after training the smaller neural network again\n",
    "        \n",
    "        # Add a node to calculate accuracy before retraining of the neural network. Here, we only define these \n",
    "        # operations, no calculation is performed at this stage.\n",
    "        correct_prediction_before_retraining = tf.equal(y_pred_cls, y_true_cls)\n",
    "        accuracy_before_retraining = tf.reduce_mean(tf.cast(correct_prediction_before_retraining, tf.float32))\n",
    "        \n",
    "        \n",
    "        # Add a node to calculate the cross entropy and cost value to be passed to optimizer for retraining \n",
    "        # of the network. \n",
    "        cross_entropy = tf.nn.softmax_cross_entropy_with_logits_v2(logits=logits,labels=y_true)\n",
    "        cost = tf.reduce_mean(cross_entropy)\n",
    "        \n",
    "        # Define the optimization operation\n",
    "        optimizer_np = tf.train.GradientDescentOptimizer(learning_rate=0.1).minimize(cost)\n",
    "        \n",
    "        # Add a node to calculate the accuracy after retraining of the neural network.\n",
    "        correct_prediction_after_retraining = tf.equal(y_pred_cls, y_true_cls)\n",
    "        accuracy_after_retraining = tf.reduce_mean(tf.cast(correct_prediction_after_retraining, tf.float32))\n",
    "        \n",
    "        # Initialize the weights of the smaller neural network\n",
    "        session.run(wt1.initializer)\n",
    "        session.run(wt2.initializer)\n",
    "        session.run(wt3.initializer)\n",
    "        session.run(wt4.initializer)\n",
    "        session.run(wt5.initializer)\n",
    "        \n",
    "        # Calculate accuracy before training and the time required for the execution of this operation\n",
    "        start_time_1 = time.time()\n",
    "        acc1 = session.run(accuracy_before_retraining, feed_dict = feed_dict_test)\n",
    "        duration_1 = time.time() - start_time_1\n",
    "        acc_before_retraining.append(acc1*100)\n",
    "        execution_time_before_retraining.append(duration_1*1000)\n",
    "        \n",
    "        # Retrain the smaller neural network by running the optimization operation by calling the \n",
    "        # optimize function (defined above)\n",
    "        optimize(optimizer_np, num_iterations)\n",
    "    \n",
    "        # Calculate accuracy after training and the time required for the execution of this operation\n",
    "        start_time_2 = time.time()\n",
    "        acc2 = session.run(accuracy_after_retraining, feed_dict = feed_dict_test)\n",
    "        duration_2 = time.time() - start_time_2\n",
    "        acc_after_retraining.append(acc2*100)\n",
    "        execution_time_after_retraining.append(duration_2*1000)\n",
    "        \n",
    "        \n",
    "    return (acc_before_retraining, execution_time_before_retraining,\n",
    "            acc_after_retraining, execution_time_after_retraining)"
   ]
  },
  {
   "cell_type": "code",
   "execution_count": 18,
   "metadata": {},
   "outputs": [],
   "source": [
    "acc_before_retraining, exec_time_before_retraining,acc_after_retraining, exec_time_after_retraining \\\n",
    "= execution_speed(sparsity, 1000)"
   ]
  },
  {
   "cell_type": "markdown",
   "metadata": {},
   "source": [
    "# Analysis of accuracy and execution time for the smaller network (k% neurons in each hidden layer except the last hidden layer are deleted)"
   ]
  },
  {
   "cell_type": "code",
   "execution_count": 19,
   "metadata": {
    "scrolled": false
   },
   "outputs": [
    {
     "name": "stdout",
     "output_type": "stream",
     "text": [
      "Plot 1: Percentage sparsity vs percentage accuracy shows that the accuracy of the network decreases as more and more of it is pruned. However, on retraining, it is able to recover the accuracy considerably. Plot 2: Percentage sparsity vs execution time on the test set shows that both the smaller networks: one before the smaller network is retrained and other after the smaller network is retrained take almost the same time in execution on the test set.\n"
     ]
    },
    {
     "data": {
      "image/png": "[encoded data removed]",
      "text/plain": [
       "<Figure size 1440x1008 with 2 Axes>"
      ]
     },
     "metadata": {},
     "output_type": "display_data"
    }
   ],
   "source": [
    "print('Plot 1: Percentage sparsity vs percentage accuracy shows that the accuracy of the network decreases \\\n",
    "as more and more of it is pruned. However, on retraining, it is able to recover the accuracy considerably.\\\n",
    "\\\n",
    " Plot 2: Percentage sparsity vs execution time on the test set shows that both the smaller networks: \\\n",
    "one before the smaller network is retrained and other after the smaller network is retrained \\\n",
    "take almost the same time in execution on the test set.')\n",
    "\n",
    "fig = plt.figure(figsize=(20,14))\n",
    "\n",
    "ax1 = fig.add_subplot(211)\n",
    "ax2 = fig.add_subplot(212)\n",
    "\n",
    "ax1.plot(sparsity,acc_before_retraining,'r', sparsity,acc_after_retraining,'g')\n",
    "ax1.grid()\n",
    "ax1.legend([['Accuracy of neuron pruned network before retraining'],\n",
    "            ['Accuracy of neuron pruned network after retraining']],\n",
    "           loc='lower left', fontsize='xx-large')\n",
    "\n",
    "ax1.set_xlabel('Percentage sparsity',fontsize='xx-large')\n",
    "ax1.set_ylabel('Percentage accuracy',fontsize='xx-large')\n",
    "ax1.set_xticks(sparsity)\n",
    "ax1.set_yticks(np.arange(0,100,5))\n",
    "\n",
    "\n",
    "ax2.plot(sparsity, exec_time_before_retraining,'b', sparsity,exec_time_after_retraining,'y')\n",
    "ax2.grid()\n",
    "ax2.legend([['Execution time before neuron pruned network is retrained'],\n",
    "            ['Execution time after the neuron pruned network has been retrained']],\n",
    "           loc='lower left', fontsize='xx-large')\n",
    "ax2.set_xlabel('Percentage sparsity',fontsize='xx-large')\n",
    "ax2.set_ylabel('Execution time on the test set',fontsize='xx-large')\n",
    "ax2.set_xticks(sparsity)\n",
    "ax2.set_yticks(np.arange(0,exec_time_before_retraining[0],50))\n",
    "\n",
    "plt.show()"
   ]
  },
  {
   "cell_type": "markdown",
   "metadata": {},
   "source": [
    "# Now, let us observe the decrease in accuracy of the smaller network and speedup of the execution time as sparsity is increased."
   ]
  },
  {
   "cell_type": "code",
   "execution_count": 20,
   "metadata": {},
   "outputs": [],
   "source": [
    "speedup_1=[1]\n",
    "for i in range(len(exec_time_before_retraining)-1):\n",
    "    temp = exec_time_before_retraining[0]/exec_time_before_retraining[i+1]\n",
    "    speedup_1.append(temp)\n",
    "    \n",
    "    \n",
    "accuracy_decrease_1 = [0]\n",
    "\n",
    "for i in range(len(acc_before_retraining)-1):\n",
    "    temp = acc_before_retraining[0]-acc_before_retraining[i+1]\n",
    "    accuracy_decrease_1.append(temp)"
   ]
  },
  {
   "cell_type": "code",
   "execution_count": 21,
   "metadata": {},
   "outputs": [],
   "source": [
    "speedup_2=[1]\n",
    "for i in range(len(exec_time_after_retraining)-1):\n",
    "    temp = exec_time_after_retraining[0]/exec_time_after_retraining[i+1]\n",
    "    speedup_2.append(temp)\n",
    "    \n",
    "accuracy_decrease_2 = [0]\n",
    "\n",
    "for i in range(len(acc_after_retraining)-1):\n",
    "    temp = acc_after_retraining[0]-acc_after_retraining[i+1]\n",
    "    accuracy_decrease_2.append(temp)"
   ]
  },
  {
   "cell_type": "code",
   "execution_count": 22,
   "metadata": {
    "scrolled": false
   },
   "outputs": [
    {
     "data": {
      "text/html": [
       "<div>\n",
       "<style scoped>\n",
       "    .dataframe tbody tr th:only-of-type {\n",
       "        vertical-align: middle;\n",
       "    }\n",
       "\n",
       "    .dataframe tbody tr th {\n",
       "        vertical-align: top;\n",
       "    }\n",
       "\n",
       "    .dataframe thead th {\n",
       "        text-align: right;\n",
       "    }\n",
       "</style>\n",
       "<table border=\"1\" class=\"dataframe\">\n",
       "  <thead>\n",
       "    <tr style=\"text-align: right;\">\n",
       "      <th></th>\n",
       "      <th>% Sparsity</th>\n",
       "      <th>Accuarcy of neuron pruned smaller network before retraining(%)</th>\n",
       "      <th>Decrease in accuracy(%)</th>\n",
       "      <th>Execution time speedup, times X</th>\n",
       "    </tr>\n",
       "  </thead>\n",
       "  <tbody>\n",
       "    <tr>\n",
       "      <th>0</th>\n",
       "      <td>0.0</td>\n",
       "      <td>97.439998</td>\n",
       "      <td>0.000000</td>\n",
       "      <td>1.000000</td>\n",
       "    </tr>\n",
       "    <tr>\n",
       "      <th>1</th>\n",
       "      <td>25.0</td>\n",
       "      <td>94.999999</td>\n",
       "      <td>2.440000</td>\n",
       "      <td>1.463724</td>\n",
       "    </tr>\n",
       "    <tr>\n",
       "      <th>2</th>\n",
       "      <td>50.0</td>\n",
       "      <td>90.579998</td>\n",
       "      <td>6.860000</td>\n",
       "      <td>2.419528</td>\n",
       "    </tr>\n",
       "    <tr>\n",
       "      <th>3</th>\n",
       "      <td>60.0</td>\n",
       "      <td>70.120001</td>\n",
       "      <td>27.319998</td>\n",
       "      <td>3.155736</td>\n",
       "    </tr>\n",
       "    <tr>\n",
       "      <th>4</th>\n",
       "      <td>70.0</td>\n",
       "      <td>47.450000</td>\n",
       "      <td>49.989998</td>\n",
       "      <td>3.955249</td>\n",
       "    </tr>\n",
       "    <tr>\n",
       "      <th>5</th>\n",
       "      <td>80.0</td>\n",
       "      <td>29.440001</td>\n",
       "      <td>67.999998</td>\n",
       "      <td>5.412411</td>\n",
       "    </tr>\n",
       "    <tr>\n",
       "      <th>6</th>\n",
       "      <td>90.0</td>\n",
       "      <td>16.640000</td>\n",
       "      <td>80.799998</td>\n",
       "      <td>7.356683</td>\n",
       "    </tr>\n",
       "    <tr>\n",
       "      <th>7</th>\n",
       "      <td>95.0</td>\n",
       "      <td>14.190000</td>\n",
       "      <td>83.249998</td>\n",
       "      <td>8.643668</td>\n",
       "    </tr>\n",
       "    <tr>\n",
       "      <th>8</th>\n",
       "      <td>97.0</td>\n",
       "      <td>9.970000</td>\n",
       "      <td>87.469999</td>\n",
       "      <td>8.965358</td>\n",
       "    </tr>\n",
       "    <tr>\n",
       "      <th>9</th>\n",
       "      <td>99.0</td>\n",
       "      <td>9.690000</td>\n",
       "      <td>87.749998</td>\n",
       "      <td>9.122718</td>\n",
       "    </tr>\n",
       "  </tbody>\n",
       "</table>\n",
       "</div>"
      ],
      "text/plain": [
       "   % Sparsity  Accuarcy of neuron pruned smaller network before retraining(%)  \\\n",
       "0         0.0                                          97.439998                \n",
       "1        25.0                                          94.999999                \n",
       "2        50.0                                          90.579998                \n",
       "3        60.0                                          70.120001                \n",
       "4        70.0                                          47.450000                \n",
       "5        80.0                                          29.440001                \n",
       "6        90.0                                          16.640000                \n",
       "7        95.0                                          14.190000                \n",
       "8        97.0                                           9.970000                \n",
       "9        99.0                                           9.690000                \n",
       "\n",
       "   Decrease in accuracy(%)  Execution time speedup, times X  \n",
       "0                 0.000000                         1.000000  \n",
       "1                 2.440000                         1.463724  \n",
       "2                 6.860000                         2.419528  \n",
       "3                27.319998                         3.155736  \n",
       "4                49.989998                         3.955249  \n",
       "5                67.999998                         5.412411  \n",
       "6                80.799998                         7.356683  \n",
       "7                83.249998                         8.643668  \n",
       "8                87.469999                         8.965358  \n",
       "9                87.749998                         9.122718  "
      ]
     },
     "metadata": {},
     "output_type": "display_data"
    },
    {
     "data": {
      "text/html": [
       "<div>\n",
       "<style scoped>\n",
       "    .dataframe tbody tr th:only-of-type {\n",
       "        vertical-align: middle;\n",
       "    }\n",
       "\n",
       "    .dataframe tbody tr th {\n",
       "        vertical-align: top;\n",
       "    }\n",
       "\n",
       "    .dataframe thead th {\n",
       "        text-align: right;\n",
       "    }\n",
       "</style>\n",
       "<table border=\"1\" class=\"dataframe\">\n",
       "  <thead>\n",
       "    <tr style=\"text-align: right;\">\n",
       "      <th></th>\n",
       "      <th>% Sparsity</th>\n",
       "      <th>Accuarcy of neuron pruned smaller network after retraining(%)</th>\n",
       "      <th>Decrease in accuracy(%)</th>\n",
       "      <th>Execution time speedup, times X</th>\n",
       "    </tr>\n",
       "  </thead>\n",
       "  <tbody>\n",
       "    <tr>\n",
       "      <th>0</th>\n",
       "      <td>0.0</td>\n",
       "      <td>97.719997</td>\n",
       "      <td>0.000000</td>\n",
       "      <td>1.000000</td>\n",
       "    </tr>\n",
       "    <tr>\n",
       "      <th>1</th>\n",
       "      <td>25.0</td>\n",
       "      <td>96.950001</td>\n",
       "      <td>0.769997</td>\n",
       "      <td>1.329389</td>\n",
       "    </tr>\n",
       "    <tr>\n",
       "      <th>2</th>\n",
       "      <td>50.0</td>\n",
       "      <td>97.219998</td>\n",
       "      <td>0.500000</td>\n",
       "      <td>2.403335</td>\n",
       "    </tr>\n",
       "    <tr>\n",
       "      <th>3</th>\n",
       "      <td>60.0</td>\n",
       "      <td>97.130001</td>\n",
       "      <td>0.589997</td>\n",
       "      <td>3.024929</td>\n",
       "    </tr>\n",
       "    <tr>\n",
       "      <th>4</th>\n",
       "      <td>70.0</td>\n",
       "      <td>96.910000</td>\n",
       "      <td>0.809997</td>\n",
       "      <td>3.874278</td>\n",
       "    </tr>\n",
       "    <tr>\n",
       "      <th>5</th>\n",
       "      <td>80.0</td>\n",
       "      <td>96.719998</td>\n",
       "      <td>0.999999</td>\n",
       "      <td>5.400613</td>\n",
       "    </tr>\n",
       "    <tr>\n",
       "      <th>6</th>\n",
       "      <td>90.0</td>\n",
       "      <td>95.779997</td>\n",
       "      <td>1.940000</td>\n",
       "      <td>7.069792</td>\n",
       "    </tr>\n",
       "    <tr>\n",
       "      <th>7</th>\n",
       "      <td>95.0</td>\n",
       "      <td>91.289997</td>\n",
       "      <td>6.430000</td>\n",
       "      <td>8.328910</td>\n",
       "    </tr>\n",
       "    <tr>\n",
       "      <th>8</th>\n",
       "      <td>97.0</td>\n",
       "      <td>41.710001</td>\n",
       "      <td>56.009996</td>\n",
       "      <td>8.637517</td>\n",
       "    </tr>\n",
       "    <tr>\n",
       "      <th>9</th>\n",
       "      <td>99.0</td>\n",
       "      <td>19.990000</td>\n",
       "      <td>77.729997</td>\n",
       "      <td>8.560427</td>\n",
       "    </tr>\n",
       "  </tbody>\n",
       "</table>\n",
       "</div>"
      ],
      "text/plain": [
       "   % Sparsity  Accuarcy of neuron pruned smaller network after retraining(%)  \\\n",
       "0         0.0                                          97.719997               \n",
       "1        25.0                                          96.950001               \n",
       "2        50.0                                          97.219998               \n",
       "3        60.0                                          97.130001               \n",
       "4        70.0                                          96.910000               \n",
       "5        80.0                                          96.719998               \n",
       "6        90.0                                          95.779997               \n",
       "7        95.0                                          91.289997               \n",
       "8        97.0                                          41.710001               \n",
       "9        99.0                                          19.990000               \n",
       "\n",
       "   Decrease in accuracy(%)  Execution time speedup, times X  \n",
       "0                 0.000000                         1.000000  \n",
       "1                 0.769997                         1.329389  \n",
       "2                 0.500000                         2.403335  \n",
       "3                 0.589997                         3.024929  \n",
       "4                 0.809997                         3.874278  \n",
       "5                 0.999999                         5.400613  \n",
       "6                 1.940000                         7.069792  \n",
       "7                 6.430000                         8.328910  \n",
       "8                56.009996                         8.637517  \n",
       "9                77.729997                         8.560427  "
      ]
     },
     "metadata": {},
     "output_type": "display_data"
    }
   ],
   "source": [
    "data1 = np.array([sparsity, acc_before_retraining, accuracy_decrease_1 , speedup_1])\n",
    "df1 = pd.DataFrame(data1.T, columns=['% Sparsity','Accuarcy of neuron pruned smaller network before retraining(%)',\\\n",
    "                                    'Decrease in accuracy(%)','Execution time speedup, times X'])\n",
    "df1.style.set_properties(**{'text-align': 'center'})\n",
    "display(df1)\n",
    "\n",
    "data2 = np.array([sparsity, acc_after_retraining, accuracy_decrease_2 , speedup_2])\n",
    "df2 = pd.DataFrame(data2.T, columns=['% Sparsity','Accuarcy of neuron pruned smaller network after retraining(%)',\\\n",
    "                                    'Decrease in accuracy(%)','Execution time speedup, times X'])\n",
    "df2.style.set_properties(**{'text-align': 'center'})\n",
    "display(df2)"
   ]
  },
  {
   "cell_type": "markdown",
   "metadata": {},
   "source": [
    "# Conclusions\n",
    "\n",
    "When we delete k% neurons in each hidden layer(except the last hidden layer), the execution time goes on decreasing as we delete more and more neurons. However, the accuracy on the test set also goes on decreasing.\n",
    "\n",
    "The accuracy on the test set can be recovered by training the smaller network again. After retraining, the execution time on the test set remains the same.\n",
    "Thus, in this way, we are able to maintain the classification potential of the neural nwtwork while increasing its execution speed by a factor of as high as 6 to 7."
   ]
  }
 ],
 "metadata": {
  "anaconda-cloud": {},
  "kernelspec": {
   "display_name": "Python 3",
   "language": "python",
   "name": "python3"
  },
  "language_info": {
   "codemirror_mode": {
    "name": "ipython",
    "version": 3
   },
   "file_extension": ".py",
   "mimetype": "text/x-python",
   "name": "python",
   "nbconvert_exporter": "python",
   "pygments_lexer": "ipython3",
   "version": "3.6.5"
  }
 },
 "nbformat": 4,
 "nbformat_minor": 1
}
